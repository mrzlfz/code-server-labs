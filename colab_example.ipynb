{
 "cells": [
  {
   "cell_type": "markdown",
   "metadata": {
    "id": "header"
   },
   "source": [
    "# 🚀 Code Server Setup for Google Colab\n",
    "\n",
    "This notebook demonstrates how to set up VS Code Server on Google Colab with ngrok tunneling.\n",
    "\n",
    "## Features:\n",
    "- 🖥️ Full VS Code experience in your browser\n",
    "- 🌐 Secure web access via ngrok\n",
    "- 📦 Extension management\n",
    "- ⚙️ Interactive configuration\n",
    "- 🔧 Process management"
   ]
  },
  {
   "cell_type": "markdown",
   "metadata": {
    "id": "step1"
   },
   "source": [
    "## Step 1: Download and Setup\n",
    "\n",
    "First, let's download the setup script and make it executable."
   ]
  },
  {
   "cell_type": "code",
   "execution_count": null,
   "metadata": {
    "id": "download"
   },
   "outputs": [],
   "source": [
    "# Download the setup script\n",
    "!wget -q https://raw.githubusercontent.com/your-repo/code_server_colab_setup.py\n",
    "!chmod +x code_server_colab_setup.py\n",
    "\n",
    "print(\"✅ Setup script downloaded successfully!\")"
   ]
  },
  {
   "cell_type": "markdown",
   "metadata": {
    "id": "step2"
   },
   "source": [
    "## Step 2: Install Code Server\n",
    "\n",
    "Run the installation process. This will:\n",
    "- Install required dependencies\n",
    "- Download and install Code Server\n",
    "- Generate a secure password\n",
    "- Create configuration files"
   ]
  },
  {
   "cell_type": "code",
   "execution_count": null,
   "metadata": {
    "id": "install"
   },
   "outputs": [],
   "source": [
    "# Install Code Server\n",
    "!python code_server_colab_setup.py --install"
   ]
  },
  {
   "cell_type": "markdown",
   "metadata": {
    "id": "step3"
   },
   "source": [
    "## Step 3: Setup Ngrok (Required for Web Access)\n",
    "\n",
    "To access Code Server from outside Colab, you need to setup ngrok:\n",
    "\n",
    "1. Go to [ngrok.com](https://ngrok.com) and create a free account\n",
    "2. Get your auth token from [dashboard](https://dashboard.ngrok.com/get-started/your-authtoken)\n",
    "3. Run the cell below and enter your token when prompted"
   ]
  },
  {
   "cell_type": "code",
   "execution_count": null,
   "metadata": {
    "id": "ngrok_setup"
   },
   "outputs": [],
   "source": [
    "# Setup ngrok - you'll be prompted for your auth token\n",
    "import subprocess\n",
    "import sys\n",
    "\n",
    "# Load the script as a module\n",
    "sys.path.append('.')\n",
    "exec(open('code_server_colab_setup.py').read())\n",
    "\n",
    "# Create app instance and setup ngrok\n",
    "app = CodeServerSetup()\n",
    "app.setup_ngrok()"
   ]
  },
  {
   "cell_type": "markdown",
   "metadata": {
    "id": "step4"
   },
   "source": [
    "## Step 4: Start Code Server\n",
    "\n",
    "Now let's start the Code Server with ngrok tunneling."
   ]
  },
  {
   "cell_type": "code",
   "execution_count": null,
   "metadata": {
    "id": "start_server"
   },
   "outputs": [],
   "source": [
    "# Start Code Server\n",
    "app.start_code_server()\n",
    "\n",
    "# Show status\n",
    "print(\"\\n\" + \"=\"*50)\n",
    "app.show_status()"
   ]
  },
  {
   "cell_type": "markdown",
   "metadata": {
    "id": "step5"
   },
   "source": [
    "## Step 5: Install Popular Extensions\n",
    "\n",
    "Let's install some popular VS Code extensions for a better development experience."
   ]
  },
  {
   "cell_type": "code",
   "execution_count": null,
   "metadata": {
    "id": "install_extensions"
   },
   "outputs": [],
   "source": [
    "# Install popular extensions\n",
    "app._install_popular_extensions()\n",
    "\n",
    "print(\"\\n📦 Installed Extensions:\")\n",
    "app._list_extensions()"
   ]
  },
  {
   "cell_type": "markdown",
   "metadata": {
    "id": "access_info"
   },
   "source": [
    "## 🎉 Access Your Code Server\n",
    "\n",
    "Your Code Server is now running! You can access it using:\n",
    "\n",
    "- **Web URL**: The ngrok URL shown above (accessible from anywhere)\n",
    "- **Password**: Check the status output above\n",
    "\n",
    "## 🔧 Management Commands\n",
    "\n",
    "Use these cells to manage your Code Server:"
   ]
  },
  {
   "cell_type": "code",
   "execution_count": null,
   "metadata": {
    "id": "status"
   },
   "outputs": [],
   "source": [
    "# Check status\n",
    "app.show_status()"
   ]
  },
  {
   "cell_type": "code",
   "execution_count": null,
   "metadata": {
    "id": "stop"
   },
   "outputs": [],
   "source": [
    "# Stop Code Server (run when done)\n",
    "app.stop_code_server()"
   ]
  },
  {
   "cell_type": "code",
   "execution_count": null,
   "metadata": {
    "id": "restart"
   },
   "outputs": [],
   "source": [
    "# Restart Code Server\n",
    "app.restart_code_server()"
   ]
  },
  {
   "cell_type": "code",
   "execution_count": null,
   "metadata": {
    "id": "interactive_menu"
   },
   "outputs": [],
   "source": [
    "# Launch interactive menu for advanced options\n",
    "# Note: This works best in terminal, but you can try it here\n",
    "!python code_server_colab_setup.py"
   ]
  },
  {
   "cell_type": "markdown",
   "metadata": {
    "id": "tips"
   },
   "source": [
    "## 💡 Tips and Tricks\n",
    "\n",
    "1. **Persistence**: Your Code Server installation persists across Colab sessions\n",
    "2. **Extensions**: Install additional extensions through the VS Code interface\n",
    "3. **Files**: Access your Colab files through the VS Code file explorer\n",
    "4. **Terminal**: Use the integrated terminal for command-line operations\n",
    "5. **Git**: Clone repositories and use version control\n",
    "\n",
    "## 🔒 Security Notes\n",
    "\n",
    "- The ngrok URL is publicly accessible - always use the password\n",
    "- Don't share your ngrok URL publicly\n",
    "- Stop the server when not in use to save resources\n",
    "\n",
    "## 🆘 Troubleshooting\n",
    "\n",
    "If you encounter issues:\n",
    "\n",
    "1. **Check logs**: `app.view_logs()`\n",
    "2. **Restart**: Use the restart command above\n",
    "3. **Reinstall**: Run the install command again\n",
    "4. **Check status**: Use the status command to diagnose\n",
    "\n",
    "---\n",
    "\n",
    "**Happy coding! 🚀**"
   ]
  }
 ],
 "metadata": {
  "colab": {
   "provenance": [],
   "toc_visible": true
  },
  "kernelspec": {
   "display_name": "Python 3",
   "name": "python3"
  },
  "language_info": {
   "name": "python"
  }
 },
 "nbformat": 4,
 "nbformat_minor": 0
}
